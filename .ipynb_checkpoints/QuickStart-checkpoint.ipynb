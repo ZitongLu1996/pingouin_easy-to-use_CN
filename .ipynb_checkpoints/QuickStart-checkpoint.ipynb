{
 "cells": [
  {
   "cell_type": "markdown",
   "id": "2440f3ec",
   "metadata": {},
   "source": [
    "pingouin是一个基于Python的用于统计分析的工具包，可以实现很多心理学研究中需要用到的统计方法，相比于R丰富的统计计算，虽然pingouin内容并不丰富，但是完全填补了很多日常所需但scipy.stats无法实现的功能。因此，路同学希望在中文社区分享pingouin。  \n",
    "pingouin的官方网址：https://pingouin-stats.org  \n",
    "pingouin的GitHub源码：https://github.com/raphaelvallat/pingouin  \n",
    "使用pingouin需要引用的文章：Vallat, R. (2018). Pingouin: statistics in Python. Journal of Open Source Software, 3(31), 1026, https://doi.org/10.21105/joss.01026"
   ]
  },
  {
   "cell_type": "markdown",
   "id": "17ae7ffc",
   "metadata": {},
   "source": [
    "安装pingouin：  \n",
    "控制台输入：pip install pingouin  \n",
    "即可完成安装  "
   ]
  },
  {
   "cell_type": "markdown",
   "id": "27f00e71",
   "metadata": {},
   "source": [
    "简单上手pingouin"
   ]
  },
  {
   "cell_type": "markdown",
   "id": "4163cb97",
   "metadata": {},
   "source": [
    "这一篇推送选取了一些常用的统计方法对应的基于pingouin的实现。"
   ]
  },
  {
   "cell_type": "markdown",
   "id": "0f06d064",
   "metadata": {},
   "source": [
    "(1) T检验"
   ]
  },
  {
   "cell_type": "code",
   "execution_count": 1,
   "id": "082b3edb",
   "metadata": {},
   "outputs": [
    {
     "data": {
      "text/html": [
       "<div>\n",
       "<style scoped>\n",
       "    .dataframe tbody tr th:only-of-type {\n",
       "        vertical-align: middle;\n",
       "    }\n",
       "\n",
       "    .dataframe tbody tr th {\n",
       "        vertical-align: top;\n",
       "    }\n",
       "\n",
       "    .dataframe thead th {\n",
       "        text-align: right;\n",
       "    }\n",
       "</style>\n",
       "<table border=\"1\" class=\"dataframe\">\n",
       "  <thead>\n",
       "    <tr style=\"text-align: right;\">\n",
       "      <th></th>\n",
       "      <th>T</th>\n",
       "      <th>dof</th>\n",
       "      <th>alternative</th>\n",
       "      <th>p-val</th>\n",
       "      <th>CI95%</th>\n",
       "      <th>cohen-d</th>\n",
       "      <th>BF10</th>\n",
       "      <th>power</th>\n",
       "    </tr>\n",
       "  </thead>\n",
       "  <tbody>\n",
       "    <tr>\n",
       "      <th>T-test</th>\n",
       "      <td>-4.860054</td>\n",
       "      <td>58</td>\n",
       "      <td>two-sided</td>\n",
       "      <td>0.000009</td>\n",
       "      <td>[-1.53, -0.64]</td>\n",
       "      <td>1.254861</td>\n",
       "      <td>1797.699</td>\n",
       "      <td>0.997585</td>\n",
       "    </tr>\n",
       "  </tbody>\n",
       "</table>\n",
       "</div>"
      ],
      "text/plain": [
       "               T  dof alternative     p-val           CI95%   cohen-d  \\\n",
       "T-test -4.860054   58   two-sided  0.000009  [-1.53, -0.64]  1.254861   \n",
       "\n",
       "            BF10     power  \n",
       "T-test  1797.699  0.997585  "
      ]
     },
     "execution_count": 1,
     "metadata": {},
     "output_type": "execute_result"
    }
   ],
   "source": [
    "# 随机生成两组数据（对应条件A和条件B），每组30个样本\n",
    "import numpy as np\n",
    "A = np.random.normal(loc=0, size=30) # 随机生成30个样本作为条件A的数据\n",
    "                              # 设置条件A的30个样本的均值为0\n",
    "B = np.random.normal(loc=1, size=30) # 随机生成30个样本作为条件的数据\n",
    "                              # 设置条件B的30个样本的均值为1\n",
    "# (Bayesian) T-test\n",
    "import pingouin as pg\n",
    "from pingouin import ttest\n",
    "# 独立样本t检验\n",
    "# 使用ttest()函数计算：\n",
    "ttest(A, B)"
   ]
  },
  {
   "cell_type": "code",
   "execution_count": 2,
   "id": "bf7d6d25",
   "metadata": {},
   "outputs": [
    {
     "data": {
      "text/html": [
       "<div>\n",
       "<style scoped>\n",
       "    .dataframe tbody tr th:only-of-type {\n",
       "        vertical-align: middle;\n",
       "    }\n",
       "\n",
       "    .dataframe tbody tr th {\n",
       "        vertical-align: top;\n",
       "    }\n",
       "\n",
       "    .dataframe thead th {\n",
       "        text-align: right;\n",
       "    }\n",
       "</style>\n",
       "<table border=\"1\" class=\"dataframe\">\n",
       "  <thead>\n",
       "    <tr style=\"text-align: right;\">\n",
       "      <th></th>\n",
       "      <th>T</th>\n",
       "      <th>dof</th>\n",
       "      <th>alternative</th>\n",
       "      <th>p-val</th>\n",
       "      <th>CI95%</th>\n",
       "      <th>cohen-d</th>\n",
       "      <th>BF10</th>\n",
       "      <th>power</th>\n",
       "    </tr>\n",
       "  </thead>\n",
       "  <tbody>\n",
       "    <tr>\n",
       "      <th>T-test</th>\n",
       "      <td>-5.178556</td>\n",
       "      <td>29</td>\n",
       "      <td>two-sided</td>\n",
       "      <td>0.000015</td>\n",
       "      <td>[-1.51, -0.66]</td>\n",
       "      <td>1.254861</td>\n",
       "      <td>1418.591</td>\n",
       "      <td>1.0</td>\n",
       "    </tr>\n",
       "  </tbody>\n",
       "</table>\n",
       "</div>"
      ],
      "text/plain": [
       "               T  dof alternative     p-val           CI95%   cohen-d  \\\n",
       "T-test -5.178556   29   two-sided  0.000015  [-1.51, -0.66]  1.254861   \n",
       "\n",
       "            BF10  power  \n",
       "T-test  1418.591    1.0  "
      ]
     },
     "execution_count": 2,
     "metadata": {},
     "output_type": "execute_result"
    }
   ],
   "source": [
    "# 配对样本t检验\n",
    "ttest(A, B, paired=True)"
   ]
  },
  {
   "cell_type": "markdown",
   "id": "b8b9a206",
   "metadata": {},
   "source": [
    "依次会显示t值，自由度，单边或双边检验，p值，置信区间，效应量，贝叶斯因子，统计效力"
   ]
  },
  {
   "cell_type": "markdown",
   "id": "dfe0d54d",
   "metadata": {},
   "source": [
    "如果想用代码获取统计结果，则直接获取返回值："
   ]
  },
  {
   "cell_type": "code",
   "execution_count": 3,
   "id": "19ab25c9",
   "metadata": {},
   "outputs": [
    {
     "name": "stdout",
     "output_type": "stream",
     "text": [
      "T-test   -5.178556\n",
      "Name: T, dtype: float64\n"
     ]
    }
   ],
   "source": [
    "stats = ttest(A, B, paired=True)\n",
    "# stats的数据类型是pandas.DataFrame，获取具体值：\n",
    "# 以t值为例：\n",
    "print(stats['T'])"
   ]
  },
  {
   "cell_type": "markdown",
   "id": "f7e151cd",
   "metadata": {},
   "source": [
    "(2) 相关性分析"
   ]
  },
  {
   "cell_type": "markdown",
   "id": "7b421789",
   "metadata": {},
   "source": [
    "默认皮尔逊相关："
   ]
  },
  {
   "cell_type": "code",
   "execution_count": 4,
   "id": "e030d5e1",
   "metadata": {},
   "outputs": [
    {
     "data": {
      "text/html": [
       "<div>\n",
       "<style scoped>\n",
       "    .dataframe tbody tr th:only-of-type {\n",
       "        vertical-align: middle;\n",
       "    }\n",
       "\n",
       "    .dataframe tbody tr th {\n",
       "        vertical-align: top;\n",
       "    }\n",
       "\n",
       "    .dataframe thead th {\n",
       "        text-align: right;\n",
       "    }\n",
       "</style>\n",
       "<table border=\"1\" class=\"dataframe\">\n",
       "  <thead>\n",
       "    <tr style=\"text-align: right;\">\n",
       "      <th></th>\n",
       "      <th>n</th>\n",
       "      <th>r</th>\n",
       "      <th>CI95%</th>\n",
       "      <th>p-val</th>\n",
       "      <th>BF10</th>\n",
       "      <th>power</th>\n",
       "    </tr>\n",
       "  </thead>\n",
       "  <tbody>\n",
       "    <tr>\n",
       "      <th>pearson</th>\n",
       "      <td>30</td>\n",
       "      <td>0.119835</td>\n",
       "      <td>[-0.25, 0.46]</td>\n",
       "      <td>0.528203</td>\n",
       "      <td>0.274</td>\n",
       "      <td>0.096748</td>\n",
       "    </tr>\n",
       "  </tbody>\n",
       "</table>\n",
       "</div>"
      ],
      "text/plain": [
       "          n         r          CI95%     p-val   BF10     power\n",
       "pearson  30  0.119835  [-0.25, 0.46]  0.528203  0.274  0.096748"
      ]
     },
     "execution_count": 4,
     "metadata": {},
     "output_type": "execute_result"
    }
   ],
   "source": [
    "# 使用corr()函数计算：\n",
    "pg.corr(A, B)"
   ]
  },
  {
   "cell_type": "markdown",
   "id": "173008e4",
   "metadata": {},
   "source": [
    "依次获得样本数，相关系数，置信区间，p值，贝叶斯因子，统计效力"
   ]
  },
  {
   "cell_type": "markdown",
   "id": "afee95cb",
   "metadata": {},
   "source": [
    "通过修改method参数可使用其他相关计算方法，比如'spearman'、'kendall'、'bicor'等，以斯皮尔曼相关为例："
   ]
  },
  {
   "cell_type": "code",
   "execution_count": 5,
   "id": "4bc82dc9",
   "metadata": {},
   "outputs": [
    {
     "data": {
      "text/html": [
       "<div>\n",
       "<style scoped>\n",
       "    .dataframe tbody tr th:only-of-type {\n",
       "        vertical-align: middle;\n",
       "    }\n",
       "\n",
       "    .dataframe tbody tr th {\n",
       "        vertical-align: top;\n",
       "    }\n",
       "\n",
       "    .dataframe thead th {\n",
       "        text-align: right;\n",
       "    }\n",
       "</style>\n",
       "<table border=\"1\" class=\"dataframe\">\n",
       "  <thead>\n",
       "    <tr style=\"text-align: right;\">\n",
       "      <th></th>\n",
       "      <th>n</th>\n",
       "      <th>r</th>\n",
       "      <th>CI95%</th>\n",
       "      <th>p-val</th>\n",
       "      <th>power</th>\n",
       "    </tr>\n",
       "  </thead>\n",
       "  <tbody>\n",
       "    <tr>\n",
       "      <th>spearman</th>\n",
       "      <td>30</td>\n",
       "      <td>0.010456</td>\n",
       "      <td>[-0.35, 0.37]</td>\n",
       "      <td>0.956267</td>\n",
       "      <td>0.049835</td>\n",
       "    </tr>\n",
       "  </tbody>\n",
       "</table>\n",
       "</div>"
      ],
      "text/plain": [
       "           n         r          CI95%     p-val     power\n",
       "spearman  30  0.010456  [-0.35, 0.37]  0.956267  0.049835"
      ]
     },
     "execution_count": 5,
     "metadata": {},
     "output_type": "execute_result"
    }
   ],
   "source": [
    "pg.corr(A, B, method='spearman')"
   ]
  },
  {
   "cell_type": "markdown",
   "id": "5ea247c9",
   "metadata": {},
   "source": [
    "(3) 方差分析"
   ]
  },
  {
   "cell_type": "code",
   "execution_count": 6,
   "id": "53c9502d",
   "metadata": {},
   "outputs": [
    {
     "name": "stdout",
     "output_type": "stream",
     "text": [
      "       Scores    Time       Group  Subject\n",
      "0    5.971435  August     Control        0\n",
      "1    4.309024  August     Control        1\n",
      "2    6.932707  August     Control        2\n",
      "3    5.187348  August     Control        3\n",
      "4    4.779411  August     Control        4\n",
      "..        ...     ...         ...      ...\n",
      "175  6.176981    June  Meditation       55\n",
      "176  8.523692    June  Meditation       56\n",
      "177  6.522273    June  Meditation       57\n",
      "178  4.990568    June  Meditation       58\n",
      "179  7.822986    June  Meditation       59\n",
      "\n",
      "[180 rows x 4 columns]\n"
     ]
    }
   ],
   "source": [
    "# 导入一个已有数据\n",
    "data = pg.read_dataset('mixed_anova')\n",
    "# 数据包含scores, time, group和subject四个维度的信息\n",
    "print(data)"
   ]
  },
  {
   "cell_type": "code",
   "execution_count": 7,
   "id": "da127989",
   "metadata": {
    "scrolled": true
   },
   "outputs": [
    {
     "data": {
      "text/html": [
       "<div>\n",
       "<style scoped>\n",
       "    .dataframe tbody tr th:only-of-type {\n",
       "        vertical-align: middle;\n",
       "    }\n",
       "\n",
       "    .dataframe tbody tr th {\n",
       "        vertical-align: top;\n",
       "    }\n",
       "\n",
       "    .dataframe thead th {\n",
       "        text-align: right;\n",
       "    }\n",
       "</style>\n",
       "<table border=\"1\" class=\"dataframe\">\n",
       "  <thead>\n",
       "    <tr style=\"text-align: right;\">\n",
       "      <th></th>\n",
       "      <th>Source</th>\n",
       "      <th>SS</th>\n",
       "      <th>DF</th>\n",
       "      <th>MS</th>\n",
       "      <th>F</th>\n",
       "      <th>p-unc</th>\n",
       "      <th>np2</th>\n",
       "    </tr>\n",
       "  </thead>\n",
       "  <tbody>\n",
       "    <tr>\n",
       "      <th>0</th>\n",
       "      <td>Group</td>\n",
       "      <td>5.459963</td>\n",
       "      <td>1</td>\n",
       "      <td>5.459963</td>\n",
       "      <td>5.243656</td>\n",
       "      <td>0.0232</td>\n",
       "      <td>0.028616</td>\n",
       "    </tr>\n",
       "    <tr>\n",
       "      <th>1</th>\n",
       "      <td>Within</td>\n",
       "      <td>185.342729</td>\n",
       "      <td>178</td>\n",
       "      <td>1.041251</td>\n",
       "      <td>NaN</td>\n",
       "      <td>NaN</td>\n",
       "      <td>NaN</td>\n",
       "    </tr>\n",
       "  </tbody>\n",
       "</table>\n",
       "</div>"
      ],
      "text/plain": [
       "   Source          SS   DF        MS         F   p-unc       np2\n",
       "0   Group    5.459963    1  5.459963  5.243656  0.0232  0.028616\n",
       "1  Within  185.342729  178  1.041251       NaN     NaN       NaN"
      ]
     },
     "execution_count": 7,
     "metadata": {},
     "output_type": "execute_result"
    }
   ],
   "source": [
    "# 单因素方差分析\n",
    "pg.anova(data=data, dv='Scores', between='Group', detailed=True)\n",
    "# 通过anova()函数计算，\n",
    "# 上行代码中, dv传入因变量(Y)维度, between传入被试间因子的维度"
   ]
  },
  {
   "cell_type": "code",
   "execution_count": 8,
   "id": "c10752ea",
   "metadata": {},
   "outputs": [
    {
     "data": {
      "text/html": [
       "<div>\n",
       "<style scoped>\n",
       "    .dataframe tbody tr th:only-of-type {\n",
       "        vertical-align: middle;\n",
       "    }\n",
       "\n",
       "    .dataframe tbody tr th {\n",
       "        vertical-align: top;\n",
       "    }\n",
       "\n",
       "    .dataframe thead th {\n",
       "        text-align: right;\n",
       "    }\n",
       "</style>\n",
       "<table border=\"1\" class=\"dataframe\">\n",
       "  <thead>\n",
       "    <tr style=\"text-align: right;\">\n",
       "      <th></th>\n",
       "      <th>Source</th>\n",
       "      <th>SS</th>\n",
       "      <th>DF</th>\n",
       "      <th>MS</th>\n",
       "      <th>F</th>\n",
       "      <th>p-unc</th>\n",
       "      <th>np2</th>\n",
       "      <th>eps</th>\n",
       "    </tr>\n",
       "  </thead>\n",
       "  <tbody>\n",
       "    <tr>\n",
       "      <th>0</th>\n",
       "      <td>Time</td>\n",
       "      <td>7.628428</td>\n",
       "      <td>2</td>\n",
       "      <td>3.814214</td>\n",
       "      <td>3.912796</td>\n",
       "      <td>0.022629</td>\n",
       "      <td>0.062194</td>\n",
       "      <td>0.998751</td>\n",
       "    </tr>\n",
       "    <tr>\n",
       "      <th>1</th>\n",
       "      <td>Error</td>\n",
       "      <td>115.027023</td>\n",
       "      <td>118</td>\n",
       "      <td>0.974805</td>\n",
       "      <td>NaN</td>\n",
       "      <td>NaN</td>\n",
       "      <td>NaN</td>\n",
       "      <td>NaN</td>\n",
       "    </tr>\n",
       "  </tbody>\n",
       "</table>\n",
       "</div>"
      ],
      "text/plain": [
       "  Source          SS   DF        MS         F     p-unc       np2       eps\n",
       "0   Time    7.628428    2  3.814214  3.912796  0.022629  0.062194  0.998751\n",
       "1  Error  115.027023  118  0.974805       NaN       NaN       NaN       NaN"
      ]
     },
     "execution_count": 8,
     "metadata": {},
     "output_type": "execute_result"
    }
   ],
   "source": [
    "# 重复测量方差分析\n",
    "pg.rm_anova(data=data, dv='Scores', within='Time', subject='Subject', detailed=True)\n",
    "# 通过rm_anova()函数计算，\n",
    "# 上行代码, dv传入因变量(Y)维度, within传入被试内自变量维度, subject传入被试维度"
   ]
  },
  {
   "cell_type": "code",
   "execution_count": 9,
   "id": "efe24b2a",
   "metadata": {},
   "outputs": [
    {
     "data": {
      "text/html": [
       "<div>\n",
       "<style scoped>\n",
       "    .dataframe tbody tr th:only-of-type {\n",
       "        vertical-align: middle;\n",
       "    }\n",
       "\n",
       "    .dataframe tbody tr th {\n",
       "        vertical-align: top;\n",
       "    }\n",
       "\n",
       "    .dataframe thead th {\n",
       "        text-align: right;\n",
       "    }\n",
       "</style>\n",
       "<table border=\"1\" class=\"dataframe\">\n",
       "  <thead>\n",
       "    <tr style=\"text-align: right;\">\n",
       "      <th></th>\n",
       "      <th>Source</th>\n",
       "      <th>SS</th>\n",
       "      <th>DF1</th>\n",
       "      <th>DF2</th>\n",
       "      <th>MS</th>\n",
       "      <th>F</th>\n",
       "      <th>p-unc</th>\n",
       "      <th>np2</th>\n",
       "      <th>eps</th>\n",
       "    </tr>\n",
       "  </thead>\n",
       "  <tbody>\n",
       "    <tr>\n",
       "      <th>0</th>\n",
       "      <td>Group</td>\n",
       "      <td>5.459963</td>\n",
       "      <td>1</td>\n",
       "      <td>58</td>\n",
       "      <td>5.459963</td>\n",
       "      <td>5.051709</td>\n",
       "      <td>0.028420</td>\n",
       "      <td>0.080120</td>\n",
       "      <td>NaN</td>\n",
       "    </tr>\n",
       "    <tr>\n",
       "      <th>1</th>\n",
       "      <td>Time</td>\n",
       "      <td>7.628428</td>\n",
       "      <td>2</td>\n",
       "      <td>116</td>\n",
       "      <td>3.814214</td>\n",
       "      <td>4.027394</td>\n",
       "      <td>0.020369</td>\n",
       "      <td>0.064929</td>\n",
       "      <td>0.998751</td>\n",
       "    </tr>\n",
       "    <tr>\n",
       "      <th>2</th>\n",
       "      <td>Interaction</td>\n",
       "      <td>5.167192</td>\n",
       "      <td>2</td>\n",
       "      <td>116</td>\n",
       "      <td>2.583596</td>\n",
       "      <td>2.727996</td>\n",
       "      <td>0.069545</td>\n",
       "      <td>0.044922</td>\n",
       "      <td>NaN</td>\n",
       "    </tr>\n",
       "  </tbody>\n",
       "</table>\n",
       "</div>"
      ],
      "text/plain": [
       "        Source        SS  DF1  DF2        MS         F     p-unc       np2  \\\n",
       "0        Group  5.459963    1   58  5.459963  5.051709  0.028420  0.080120   \n",
       "1         Time  7.628428    2  116  3.814214  4.027394  0.020369  0.064929   \n",
       "2  Interaction  5.167192    2  116  2.583596  2.727996  0.069545  0.044922   \n",
       "\n",
       "        eps  \n",
       "0       NaN  \n",
       "1  0.998751  \n",
       "2       NaN  "
      ]
     },
     "execution_count": 9,
     "metadata": {},
     "output_type": "execute_result"
    }
   ],
   "source": [
    "# 双因素方差分析\n",
    "pg.mixed_anova(data=data, dv='Scores', between='Group', within='Time', subject='Subject')\n",
    "# 通过mixed_anova()函数计算"
   ]
  },
  {
   "cell_type": "markdown",
   "id": "b6f55279",
   "metadata": {},
   "source": [
    "(4) 多重比较"
   ]
  },
  {
   "cell_type": "code",
   "execution_count": 10,
   "id": "ea294a63",
   "metadata": {},
   "outputs": [
    {
     "data": {
      "text/html": [
       "<div>\n",
       "<style scoped>\n",
       "    .dataframe tbody tr th:only-of-type {\n",
       "        vertical-align: middle;\n",
       "    }\n",
       "\n",
       "    .dataframe tbody tr th {\n",
       "        vertical-align: top;\n",
       "    }\n",
       "\n",
       "    .dataframe thead th {\n",
       "        text-align: right;\n",
       "    }\n",
       "</style>\n",
       "<table border=\"1\" class=\"dataframe\">\n",
       "  <thead>\n",
       "    <tr style=\"text-align: right;\">\n",
       "      <th></th>\n",
       "      <th>Contrast</th>\n",
       "      <th>A</th>\n",
       "      <th>B</th>\n",
       "      <th>Paired</th>\n",
       "      <th>Parametric</th>\n",
       "      <th>T</th>\n",
       "      <th>dof</th>\n",
       "      <th>alternative</th>\n",
       "      <th>p-unc</th>\n",
       "      <th>BF10</th>\n",
       "      <th>hedges</th>\n",
       "    </tr>\n",
       "  </thead>\n",
       "  <tbody>\n",
       "    <tr>\n",
       "      <th>0</th>\n",
       "      <td>Time</td>\n",
       "      <td>August</td>\n",
       "      <td>January</td>\n",
       "      <td>True</td>\n",
       "      <td>True</td>\n",
       "      <td>-1.740370</td>\n",
       "      <td>59.0</td>\n",
       "      <td>two-sided</td>\n",
       "      <td>0.087008</td>\n",
       "      <td>0.582</td>\n",
       "      <td>-0.327583</td>\n",
       "    </tr>\n",
       "    <tr>\n",
       "      <th>1</th>\n",
       "      <td>Time</td>\n",
       "      <td>August</td>\n",
       "      <td>June</td>\n",
       "      <td>True</td>\n",
       "      <td>True</td>\n",
       "      <td>-2.743238</td>\n",
       "      <td>59.0</td>\n",
       "      <td>two-sided</td>\n",
       "      <td>0.008045</td>\n",
       "      <td>4.232</td>\n",
       "      <td>-0.482547</td>\n",
       "    </tr>\n",
       "    <tr>\n",
       "      <th>2</th>\n",
       "      <td>Time</td>\n",
       "      <td>January</td>\n",
       "      <td>June</td>\n",
       "      <td>True</td>\n",
       "      <td>True</td>\n",
       "      <td>-1.023620</td>\n",
       "      <td>59.0</td>\n",
       "      <td>two-sided</td>\n",
       "      <td>0.310194</td>\n",
       "      <td>0.232</td>\n",
       "      <td>-0.169520</td>\n",
       "    </tr>\n",
       "  </tbody>\n",
       "</table>\n",
       "</div>"
      ],
      "text/plain": [
       "  Contrast        A        B  Paired  Parametric         T   dof alternative  \\\n",
       "0     Time   August  January    True        True -1.740370  59.0   two-sided   \n",
       "1     Time   August     June    True        True -2.743238  59.0   two-sided   \n",
       "2     Time  January     June    True        True -1.023620  59.0   two-sided   \n",
       "\n",
       "      p-unc   BF10    hedges  \n",
       "0  0.087008  0.582 -0.327583  \n",
       "1  0.008045  4.232 -0.482547  \n",
       "2  0.310194  0.232 -0.169520  "
      ]
     },
     "execution_count": 10,
     "metadata": {},
     "output_type": "execute_result"
    }
   ],
   "source": [
    "# 以Time维度下的多重比较为例：\n",
    "pg.pairwise_ttests(data=data, dv='Scores', within='Time', subject='Subject')"
   ]
  },
  {
   "cell_type": "code",
   "execution_count": 11,
   "id": "1453df31",
   "metadata": {},
   "outputs": [
    {
     "data": {
      "text/html": [
       "<div>\n",
       "<style scoped>\n",
       "    .dataframe tbody tr th:only-of-type {\n",
       "        vertical-align: middle;\n",
       "    }\n",
       "\n",
       "    .dataframe tbody tr th {\n",
       "        vertical-align: top;\n",
       "    }\n",
       "\n",
       "    .dataframe thead th {\n",
       "        text-align: right;\n",
       "    }\n",
       "</style>\n",
       "<table border=\"1\" class=\"dataframe\">\n",
       "  <thead>\n",
       "    <tr style=\"text-align: right;\">\n",
       "      <th></th>\n",
       "      <th>Contrast</th>\n",
       "      <th>A</th>\n",
       "      <th>B</th>\n",
       "      <th>Paired</th>\n",
       "      <th>Parametric</th>\n",
       "      <th>T</th>\n",
       "      <th>dof</th>\n",
       "      <th>alternative</th>\n",
       "      <th>p-unc</th>\n",
       "      <th>p-corr</th>\n",
       "      <th>p-adjust</th>\n",
       "      <th>BF10</th>\n",
       "      <th>hedges</th>\n",
       "    </tr>\n",
       "  </thead>\n",
       "  <tbody>\n",
       "    <tr>\n",
       "      <th>0</th>\n",
       "      <td>Time</td>\n",
       "      <td>August</td>\n",
       "      <td>January</td>\n",
       "      <td>True</td>\n",
       "      <td>True</td>\n",
       "      <td>-1.740370</td>\n",
       "      <td>59.0</td>\n",
       "      <td>two-sided</td>\n",
       "      <td>0.087008</td>\n",
       "      <td>0.261023</td>\n",
       "      <td>bonf</td>\n",
       "      <td>0.582</td>\n",
       "      <td>-0.327583</td>\n",
       "    </tr>\n",
       "    <tr>\n",
       "      <th>1</th>\n",
       "      <td>Time</td>\n",
       "      <td>August</td>\n",
       "      <td>June</td>\n",
       "      <td>True</td>\n",
       "      <td>True</td>\n",
       "      <td>-2.743238</td>\n",
       "      <td>59.0</td>\n",
       "      <td>two-sided</td>\n",
       "      <td>0.008045</td>\n",
       "      <td>0.024134</td>\n",
       "      <td>bonf</td>\n",
       "      <td>4.232</td>\n",
       "      <td>-0.482547</td>\n",
       "    </tr>\n",
       "    <tr>\n",
       "      <th>2</th>\n",
       "      <td>Time</td>\n",
       "      <td>January</td>\n",
       "      <td>June</td>\n",
       "      <td>True</td>\n",
       "      <td>True</td>\n",
       "      <td>-1.023620</td>\n",
       "      <td>59.0</td>\n",
       "      <td>two-sided</td>\n",
       "      <td>0.310194</td>\n",
       "      <td>0.930581</td>\n",
       "      <td>bonf</td>\n",
       "      <td>0.232</td>\n",
       "      <td>-0.169520</td>\n",
       "    </tr>\n",
       "  </tbody>\n",
       "</table>\n",
       "</div>"
      ],
      "text/plain": [
       "  Contrast        A        B  Paired  Parametric         T   dof alternative  \\\n",
       "0     Time   August  January    True        True -1.740370  59.0   two-sided   \n",
       "1     Time   August     June    True        True -2.743238  59.0   two-sided   \n",
       "2     Time  January     June    True        True -1.023620  59.0   two-sided   \n",
       "\n",
       "      p-unc    p-corr p-adjust   BF10    hedges  \n",
       "0  0.087008  0.261023     bonf  0.582 -0.327583  \n",
       "1  0.008045  0.024134     bonf  4.232 -0.482547  \n",
       "2  0.310194  0.930581     bonf  0.232 -0.169520  "
      ]
     },
     "execution_count": 11,
     "metadata": {},
     "output_type": "execute_result"
    }
   ],
   "source": [
    "# 进行多重比较的结果矫正，使用padjust参数选取矫正方法，以Bonferroni矫正为例：\n",
    "pg.pairwise_ttests(data=data, dv='Scores', within='Time', subject='Subject', padjust='bonf')\n",
    "# 当然也可以使用其他矫正方法传入padjust参数, \n",
    "# 如'sidak'、'holm'、'fdr_bh'、'fdr_by', 默认none不矫正"
   ]
  },
  {
   "cell_type": "markdown",
   "id": "6a6007cb",
   "metadata": {},
   "source": [
    "(5) 多元线性回归"
   ]
  },
  {
   "cell_type": "code",
   "execution_count": 12,
   "id": "4f776616",
   "metadata": {},
   "outputs": [
    {
     "data": {
      "text/html": [
       "<div>\n",
       "<style scoped>\n",
       "    .dataframe tbody tr th:only-of-type {\n",
       "        vertical-align: middle;\n",
       "    }\n",
       "\n",
       "    .dataframe tbody tr th {\n",
       "        vertical-align: top;\n",
       "    }\n",
       "\n",
       "    .dataframe thead th {\n",
       "        text-align: right;\n",
       "    }\n",
       "</style>\n",
       "<table border=\"1\" class=\"dataframe\">\n",
       "  <thead>\n",
       "    <tr style=\"text-align: right;\">\n",
       "      <th></th>\n",
       "      <th>names</th>\n",
       "      <th>coef</th>\n",
       "      <th>se</th>\n",
       "      <th>T</th>\n",
       "      <th>pval</th>\n",
       "      <th>r2</th>\n",
       "      <th>adj_r2</th>\n",
       "      <th>CI[2.5%]</th>\n",
       "      <th>CI[97.5%]</th>\n",
       "    </tr>\n",
       "  </thead>\n",
       "  <tbody>\n",
       "    <tr>\n",
       "      <th>0</th>\n",
       "      <td>Intercept</td>\n",
       "      <td>4.648561</td>\n",
       "      <td>0.293522</td>\n",
       "      <td>15.837195</td>\n",
       "      <td>3.431727e-15</td>\n",
       "      <td>0.063433</td>\n",
       "      <td>-0.005942</td>\n",
       "      <td>4.046304</td>\n",
       "      <td>5.250818</td>\n",
       "    </tr>\n",
       "    <tr>\n",
       "      <th>1</th>\n",
       "      <td>x1</td>\n",
       "      <td>0.203245</td>\n",
       "      <td>0.202106</td>\n",
       "      <td>1.005636</td>\n",
       "      <td>3.235189e-01</td>\n",
       "      <td>0.063433</td>\n",
       "      <td>-0.005942</td>\n",
       "      <td>-0.211442</td>\n",
       "      <td>0.617932</td>\n",
       "    </tr>\n",
       "    <tr>\n",
       "      <th>2</th>\n",
       "      <td>x2</td>\n",
       "      <td>0.173755</td>\n",
       "      <td>0.223600</td>\n",
       "      <td>0.777078</td>\n",
       "      <td>4.438682e-01</td>\n",
       "      <td>0.063433</td>\n",
       "      <td>-0.005942</td>\n",
       "      <td>-0.285035</td>\n",
       "      <td>0.632545</td>\n",
       "    </tr>\n",
       "  </tbody>\n",
       "</table>\n",
       "</div>"
      ],
      "text/plain": [
       "       names      coef        se          T          pval        r2    adj_r2  \\\n",
       "0  Intercept  4.648561  0.293522  15.837195  3.431727e-15  0.063433 -0.005942   \n",
       "1         x1  0.203245  0.202106   1.005636  3.235189e-01  0.063433 -0.005942   \n",
       "2         x2  0.173755  0.223600   0.777078  4.438682e-01  0.063433 -0.005942   \n",
       "\n",
       "   CI[2.5%]  CI[97.5%]  \n",
       "0  4.046304   5.250818  \n",
       "1 -0.211442   0.617932  \n",
       "2 -0.285035   0.632545  "
      ]
     },
     "execution_count": 12,
     "metadata": {},
     "output_type": "execute_result"
    }
   ],
   "source": [
    "# 以计算C ~ A + B + A*B为例\n",
    "C = np.random.normal(loc=5, size=30)\n",
    "# 使用linear_regression()函数计算：\n",
    "pg.linear_regression(np.transpose([A, B], (1, 0)), C)"
   ]
  },
  {
   "cell_type": "markdown",
   "id": "0cdb6518",
   "metadata": {},
   "source": [
    "其他功能：pingouin还包含大量其他的计算功能以及画图功能，但是无法在这篇推送里一一罗列，大家可以参考官网的Functions页面：\n",
    "https://pingouin-stats.org/api.html"
   ]
  }
 ],
 "metadata": {
  "kernelspec": {
   "display_name": "Python 3 (ipykernel)",
   "language": "python",
   "name": "python3"
  },
  "language_info": {
   "codemirror_mode": {
    "name": "ipython",
    "version": 3
   },
   "file_extension": ".py",
   "mimetype": "text/x-python",
   "name": "python",
   "nbconvert_exporter": "python",
   "pygments_lexer": "ipython3",
   "version": "3.9.12"
  }
 },
 "nbformat": 4,
 "nbformat_minor": 5
}
